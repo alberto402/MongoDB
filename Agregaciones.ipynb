{
 "cells": [
  {
   "cell_type": "markdown",
   "metadata": {},
   "source": [
    "#### Toda la información de este documento está obtenida de [aquí](http://gpd.sip.ucm.es/rafa/docencia/nosql/Agregando.html)"
   ]
  },
  {
   "cell_type": "markdown",
   "metadata": {},
   "source": [
    "# Agregaciones"
   ]
  },
  {
   "cell_type": "markdown",
   "metadata": {},
   "source": [
    "## Primero vamos a añadir una serie de datos a base de datos pruebas "
   ]
  },
  {
   "cell_type": "code",
   "execution_count": null,
   "metadata": {},
   "outputs": [],
   "source": [
    "use pruebas\n",
    "db.sesiones.insert({nombre:\"Bertoldo\", mes:\"Marzo\", distKm:6, tiempoMin:42})\n",
    "db.sesiones.insert({nombre:\"Herminia\", mes:\"Marzo\", distKm:10, tiempoMin:60})\n",
    "db.sesiones.insert({nombre:\"Bertoldo\", mes:\"Marzo\", distKm:2, tiempoMin:12})\n",
    "db.sesiones.insert({nombre:\"Herminia\", mes:\"Marzo\", distKm:10, tiempoMin:61})\n",
    "db.sesiones.insert({nombre:\"Bertoldo\", mes:\"Abril\", distKm:5, tiempoMin:33})\n",
    "db.sesiones.insert({nombre:\"Herminia\", mes:\"Abril\", distKm:42, tiempoMin:285})\n",
    "db.sesiones.insert({nombre:\"Aniceto\", mes:\"Abril\", distKm:5, tiempoMin:33})\n"
   ]
  },
  {
   "cell_type": "markdown",
   "metadata": {},
   "source": [
    "## Supongamos que queremos saber el número de sesiones que ha realizado cada persona:\n"
   ]
  },
  {
   "cell_type": "code",
   "execution_count": null,
   "metadata": {},
   "outputs": [],
   "source": [
    "db.sesiones.aggregate(                                  \n",
    "                      [                                 \n",
    "                       {$group:                         \n",
    "                               { _id:\"$nombre\",         \n",
    "                                 num_sesiones:          \n",
    "                                              {$sum:1}  \n",
    "                               }\n",
    "                        }\n",
    "                       ]\n",
    "                     )\n",
    "\n",
    "##También se pueden agrupar por más de una clave\n",
    "db.sesiones.aggregate(\n",
    "                    [\n",
    "                        {$group:\n",
    "                                { _id:{nombre:\"$nombre\",\n",
    "                                  mes: \"$mes\"},\n",
    "                                  num_sesiones: {$sum:1}\n",
    "                                }\n",
    "                        }\n",
    "                    ]\n",
    "                    )\n",
    "\n"
   ]
  },
  {
   "cell_type": "markdown",
   "metadata": {},
   "source": [
    "\n",
    "<font color=blue>sum </font>: suma (o incrementa) <br>\n",
    "<font color=blue>avg</font>: mínimo de los valores<br>\n",
    "<font color=blue>min</font>: máximo<br>\n",
    "<font color=blue>max</font>: suma (o incrementa)<br>\n",
    "<font color=blue>push</font>:  Mete en un array un valor determinado<br>\n",
    "<font color=blue>addToSet</font>:  Mete en un array los valores que digamos, pero solo una vez<br>\n",
    "<font color=blue>first</font>: obtiene el primer elemento del grupo, a menudo junto con sort<br>\n",
    "<font color=blue>last</font>: obtiene el último elemento, a menudo junto con sort<br>\n"
   ]
  },
  {
   "cell_type": "markdown",
   "metadata": {},
   "source": [
    "## addToSet\n",
    "\n",
    " crea arrays agrupando elementos."
   ]
  },
  {
   "cell_type": "code",
   "execution_count": null,
   "metadata": {},
   "outputs": [],
   "source": [
    "db.sesiones.aggregate(\n",
    "                      [\n",
    "                       {$group:\n",
    "                               { _id:{nombre:\"$nombre\"},\n",
    "                                 distancias: {$addToSet:'$distKm'}\n",
    "                               }\n",
    "                        }\n",
    "                       ]\n",
    "                     )"
   ]
  },
  {
   "cell_type": "markdown",
   "metadata": {},
   "source": [
    "## unwind\n",
    "\n",
    "Es el reverso de <font color=blue>push</font>.<br>\n",
    "Cuando tenemos documentos que contienen un array y queremos agrupar por valores del array, a veces conviene eliminar los arrays y convertirlos en múltiples documentos.\n",
    "## Queremos saber el número de personas con el que cuenta cada afición. ¿Cómo hacerlo?\n"
   ]
  },
  {
   "cell_type": "code",
   "execution_count": null,
   "metadata": {},
   "outputs": [],
   "source": [
    "\n",
    "db.gustos.insert({nombre:\"Bertoldo\",  aficiones:[\"siesta\",\"cine\"]})\n",
    "db.gustos.insert({nombre:\"Herminia\", aficiones:[\"correr\",\"cine\"]})\n",
    "db.gustos.insert({nombre:\"Aniceta\", aficiones:[\"viajar\",\"cine\"]})\n",
    "db.gustos.insert({nombre:\"Godofredo\",  aficiones:[\"correr\",\"montaña\", \"cine\"]})\n",
    "\n",
    "db.gustos.aggregate([   {$unwind:'$aficiones'}   ] )\n",
    "\n",
    "#Resultado ------------\n",
    "{ \"_id\" : ObjectId(\"56b513cc5df4eba0d451ffaa\"), \"nombre\" : \"Bertoldo\", \"aficiones\" : \"siesta\" }\n",
    "{ \"_id\" : ObjectId(\"56b513cc5df4eba0d451ffaa\"), \"nombre\" : \"Bertoldo\", \"aficiones\" : \"cine\" }\n",
    "{ \"_id\" : ObjectId(\"56b513cc5df4eba0d451ffab\"), \"nombre\" : \"Herminia\", \"aficiones\" : \"correr\" }\n",
    "{ \"_id\" : ObjectId(\"56b513cc5df4eba0d451ffab\"), \"nombre\" : \"Herminia\", \"aficiones\" : \"cine\" }\n",
    "{ \"_id\" : ObjectId(\"56b513cc5df4eba0d451ffac\"), \"nombre\" : \"Aniceta\", \"aficiones\" : \"viajar\" }\n",
    "{ \"_id\" : ObjectId(\"56b513cc5df4eba0d451ffac\"), \"nombre\" : \"Aniceta\", \"aficiones\" : \"cine\" }\n",
    "{ \"_id\" : ObjectId(\"56b513cd5df4eba0d451ffad\"), \"nombre\" : \"Godofredo\", \"aficiones\" : \"correr\" }\n",
    "{ \"_id\" : ObjectId(\"56b513cd5df4eba0d451ffad\"), \"nombre\" : \"Godofredo\", \"aficiones\" : \"montaña\" }\n",
    "{ \"_id\" : ObjectId(\"56b513cd5df4eba0d451ffad\"), \"nombre\" : \"Godofredo\", \"aficiones\" : \"cine\" }\n",
    "\n",
    "\n"
   ]
  },
  {
   "cell_type": "markdown",
   "metadata": {},
   "source": [
    "### Una vez separado en aficiones ya solo queda agrupar por aficcion y contar"
   ]
  },
  {
   "cell_type": "code",
   "execution_count": null,
   "metadata": {},
   "outputs": [],
   "source": [
    "db.gustos.aggregate([\n",
    "                     {$unwind:'$aficiones'},\n",
    "                     {$group:\n",
    "                          {_id:'$aficiones',\n",
    "                           total:{$sum:1} } }\n",
    "                    ] )\n",
    "\n",
    "\n",
    "#Resultado\n",
    "{ \"_id\" : \"montaña\", \"total\" : 1 }\n",
    "{ \"_id\" : \"viajar\", \"total\" : 1 }\n",
    "{ \"_id\" : \"correr\", \"total\" : 2 }\n",
    "{ \"_id\" : \"cine\", \"total\" : 4 }\n",
    "{ \"_id\" : \"siesta\", \"total\" : 1 }\n",
    " "
   ]
  },
  {
   "cell_type": "markdown",
   "metadata": {},
   "source": [
    "## match\n",
    "Sería el <font color=Red>where</font> equivalente en SQL"
   ]
  },
  {
   "cell_type": "code",
   "execution_count": null,
   "metadata": {},
   "outputs": [],
   "source": [
    "db.sesiones.aggregate( [\n",
    "   {$group: { _id:{nombre:\"$nombre\", mes: \"$mes\"}, media: $avg:'$distKm'} } },\n",
    "   {$match: {media:{$gt:5}} } ]\n",
    ")\n",
    "\n",
    "#Resultado\n",
    "{ \"_id\" : { \"nombre\" : \"Herminia\", \"mes\" : \"Abril\" }, \"media\" : 42 }\n",
    "{ \"_id\" : { \"nombre\" : \"Herminia\", \"mes\" : \"Marzo\" }, \"media\" : 10 }\n",
    " "
   ]
  }
 ],
 "metadata": {
  "kernelspec": {
   "display_name": "Python 3",
   "language": "python",
   "name": "python3"
  },
  "language_info": {
   "codemirror_mode": {
    "name": "ipython",
    "version": 3
   },
   "file_extension": ".py",
   "mimetype": "text/x-python",
   "name": "python",
   "nbconvert_exporter": "python",
   "pygments_lexer": "ipython3",
   "version": "3.7.1"
  }
 },
 "nbformat": 4,
 "nbformat_minor": 2
}
