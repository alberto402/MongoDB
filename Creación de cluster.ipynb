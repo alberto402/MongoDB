{
 "cells": [
  {
   "cell_type": "markdown",
   "metadata": {},
   "source": [
    "<ol>\n",
    "    <h3><strong><li>Crear las respectivas carpetas</li></strong></h3>\n",
    "    <h3><strong><li>Iniciar servidores en 3 terminales distintas</li></strong></h3>\n",
    "        mongod --port 27001 --replSet replicaNoSQL1 --dbpath \"C:\\data\\data1\" --oplogSize 50<br>\n",
    "        mongod --port 27002 --replSet replicaNoSQL1 --dbpath \"C:\\data\\data2\" --oplogSize 50<br>\n",
    "        mongod --port 27003 --replSet replicaNoSQL1 --dbpath \"C:\\data\\data3\" --oplogSize 50<br>\n",
    "    <h3><strong><li>Entramos en el terminal del cliente e iniciar el conjunto de réplica</li></strong></h3>\n",
    "        mongo --port 27001<br>\n",
    "        config = {<br>\n",
    "        &nbsp;&nbsp;&nbsp;&nbsp;&nbsp;&nbsp;&nbsp;&nbsp;&nbsp;&nbsp;&nbsp;&nbsp;&nbsp;&nbsp;&nbsp;&nbsp;&nbsp;_id: \"replicaNoSQL1\",<br>\n",
    "        &nbsp;&nbsp;&nbsp;&nbsp;&nbsp;&nbsp;&nbsp;&nbsp;&nbsp;&nbsp;&nbsp;&nbsp;&nbsp;&nbsp;&nbsp;&nbsp;&nbsp;members: [       {_id:1, host:\"localhost:27001\" },<br>\n",
    "        &nbsp;&nbsp;&nbsp;&nbsp;&nbsp;&nbsp;&nbsp;&nbsp;&nbsp;&nbsp;&nbsp;&nbsp;&nbsp;&nbsp;&nbsp;&nbsp;&nbsp;&nbsp;&nbsp;&nbsp;&nbsp;&nbsp;&nbsp;&nbsp;&nbsp;&nbsp;&nbsp;&nbsp;&nbsp;&nbsp;&nbsp;&nbsp;{_id:2, host:\"localhost:27002\" },<br>\n",
    "        &nbsp;&nbsp;&nbsp;&nbsp;&nbsp;&nbsp;&nbsp;&nbsp;&nbsp;&nbsp;&nbsp;&nbsp;&nbsp;&nbsp;&nbsp;&nbsp;&nbsp;&nbsp;&nbsp;&nbsp;&nbsp;&nbsp;&nbsp;&nbsp;&nbsp;&nbsp;&nbsp;&nbsp;&nbsp;&nbsp;&nbsp;&nbsp;{_id:3, host:\"localhost:27003\", priority:0, slaveDelay:60}]<br>\n",
    "        }<br>\n",
    "        rs.initiate(config)<br>\n",
    "    <h3><strong><li>Indicar status</li></strong></h3>\n",
    "        rs.status()<br>\n",
    "    <h3><strong><li>Parar servidor del puerto 27003 y comprobar conexión</li></strong></h3>\n",
    "        Ctrl + C<br>\n",
    "    <h3><strong><li>Volver a activar 27003</li></strong></h3>\n",
    "        use pruebas<br>\n",
    "        db.minerales.insert({_id:\"Calcita\", color:\"Jaspeada\", brillo:\"opaco\", dureza:3, textura:\"Arcillosa\"})<br>\n",
    "        db.minerales.insert({_id:\"Plata\", color:\"Plateado\",brillo:\"Metálico\", dureza:2.7, textura:\"Lisa\"})<br>\n",
    "        db.minerales.insert({_id:\"Cuarzo\", color:\"Incoloro\",brillo:\"Vítreo\", dureza:7, textura:\"Lisa\"})<br>\n",
    "        db.minerales.insert({_id:\"Yeso\", color:\"Jaspeado\", brillo:\"Vítreo\",dureza:[1.5,2],textura:\"Arcillosa\"})<br>\n",
    "        db.minerales.insert({_id:\"Halita\", color:\"Blanco\",brillo:\"Vítreo\", dureza:2.5, textura:\"Granulosa\"})<br>\n",
    "        db.minerales.insert({_id:\"Grafito\",color:\"Gris\",brillo:\"Submetálico\", dureza:1, textura:\"Granulosa\"})<br>\n",
    "        db.minerales.find()<br>\n",
    "    <h3><strong><li>Salir de la shell en cliente, acabar con el servidor 27001 y borrar carpeta para simular fallo de disco</li></strong></h3>\n",
    "        Ctrl + D<br>\n",
    "        mongo --port 27002<br>\n",
    "        rs.status()<br>\n",
    "        db.minerales.find()<br>\n",
    "    <h3><strong><li>Crear de nuevo data1, el servidor en 27001 y entrar en el cliente</li></strong></h3>\n",
    "        mongo --port 27001<br>\n",
    "        use pruebas<br>\n",
    "        db.minerales.find()<br>\n",
    "        rs.slaveOk()<br>\n",
    "        db.minerales.find()<br>\n",
    "    <h3><strong><li>Añadir nuevo servidor, crear carpeta y abrir nueva terminal</li></strong></h3>\n",
    "        Terminal nueva: mongod --port 27004 --replSet replicaNoSQL1 --dbpath \"C:\\data\\data4\" --oplogSize 50<br>\n",
    "        Terminal primary: rs.add(\"localhost:27004\")<br>\n",
    "    <h3><strong><li>Eliminar de forma segura el primario</li></strong></h3>\n",
    "        rs.stepDown()<br>\n",
    "        -Ctrl+D<br>\n",
    "        -Cambiar a primary<br>\n",
    "        rs.remove(\"localhost:27002\")<br>\n",
    "\n",
    "</ol>"
   ]
  },
  {
   "cell_type": "markdown",
   "metadata": {},
   "source": [
    "La información ha sido obtenida del siguiente [enlace](http://gpd.sip.ucm.es/rafa/docencia/nosql/Replicas.html) "
   ]
  },
  {
   "cell_type": "code",
   "execution_count": null,
   "metadata": {},
   "outputs": [],
   "source": []
  }
 ],
 "metadata": {
  "kernelspec": {
   "display_name": "Python 3",
   "language": "python",
   "name": "python3"
  },
  "language_info": {
   "codemirror_mode": {
    "name": "ipython",
    "version": 3
   },
   "file_extension": ".py",
   "mimetype": "text/x-python",
   "name": "python",
   "nbconvert_exporter": "python",
   "pygments_lexer": "ipython3",
   "version": "3.6.5"
  }
 },
 "nbformat": 4,
 "nbformat_minor": 2
}
