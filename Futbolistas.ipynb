{
 "cells": [
  {
   "cell_type": "markdown",
   "metadata": {},
   "source": [
    "### En este tutorial vamos a guardar en una colección de la base de datos que llamaremos \"Futbolistas\", información relacionada sobre futbolistas. Para ello lo primero que vamos a hacer para estructurar bien el proyecto es definir la clase Futbolista que tendrá la siguiente forma:"
   ]
  },
  {
   "cell_type": "code",
   "execution_count": null,
   "metadata": {},
   "outputs": [],
   "source": [
    "class Futbolista:\n",
    "    #Constructor de la clase\n",
    "    def __init__(self, nombre, apellidos, edad, demarcacion, internacional):\n",
    "        self.nombre = nombre\n",
    "        self.apellidos = apellidos\n",
    "        self.edad = edad\n",
    "        self.demarcacion = demarcacion\n",
    "        self.internacional = internacional\n",
    "        \n",
    "     #Estructura a guardar en MongoDB\n",
    "    def toDBCollection (self):\n",
    "        return {\n",
    "            \"nombre\":self.nombre,\n",
    "            \"apellidos\":self.apellidos,\n",
    "            \"edad\": self.edad,\n",
    "            \"demarcacion\":self.demarcacion,\n",
    "            \"internacional\":self.internacional\n",
    "        }\n",
    "\n",
    "    def __str__(self):\n",
    "        return \"Nombre: %s - Apellidos: %s - Edad: %i - Demarcación: %s - Internacional: %r\" \\\n",
    "               %(self.nombre, self.apellidos, self.edad, self.demarcacion, self.internacional)"
   ]
  },
  {
   "cell_type": "markdown",
   "metadata": {},
   "source": [
    "__Bien, ahora vamos a crear una lista de objetos del tipo futbolista.__"
   ]
  },
  {
   "cell_type": "code",
   "execution_count": null,
   "metadata": {},
   "outputs": [],
   "source": [
    "\n",
    "futbolistas = [\n",
    "    Futbolista('Iker','Casillas',33,['Portero'],True),\n",
    "    Futbolista('Carles','Puyol',36,['Central', 'Lateral'],True),\n",
    "    Futbolista('Sergio','Ramos',28,['Lateral','Central'],True),\n",
    "    Futbolista('Andrés','Iniesta',30,['Centrocampista','Delantero'],True),\n",
    "    Futbolista('Fernando','Torres',30,['Delantero'],True),\n",
    "    Futbolista('Leo','Baptistao',22,['Delantero'],False)\n",
    "]\n"
   ]
  },
  {
   "cell_type": "markdown",
   "metadata": {},
   "source": [
    "__Una vez definido lo que queremos guardar en nuestra base de datos, vamos a ver como nos conectamos a la misma para poder hacer las queries que queramos. En primer lugar hay que hacer una conexión al servidor donde esta alojado nuestro \"MongoDB server\":__"
   ]
  },
  {
   "cell_type": "code",
   "execution_count": null,
   "metadata": {},
   "outputs": [],
   "source": [
    "from pymongo import MongoClient\n",
    "#  Conexión al Server de MongoDB Pasandole el host y el puerto\n",
    "mongoClient = MongoClient('localhost',27017)\n",
    "\n",
    "# Conexión a la base de datos\n",
    "db = mongoClient.Futbol\n",
    "\n",
    "# Obtenemos una coleccion para trabajar con ella\n",
    "collection = db.Futbolistas"
   ]
  },
  {
   "cell_type": "markdown",
   "metadata": {},
   "source": [
    "# Funciones CRUD"
   ]
  },
  {
   "cell_type": "markdown",
   "metadata": {},
   "source": [
    "## Create<br>\n",
    "__\"CREATE\" -> Metemos los objetos futbolista (o documentos en Mongo) en la coleccion Futbolist__"
   ]
  },
  {
   "cell_type": "code",
   "execution_count": null,
   "metadata": {},
   "outputs": [],
   "source": [
    "#  a\n",
    "for futbolista in futbolistas:\n",
    "    collection.insert_one(futbolista.toDBCollection())"
   ]
  },
  {
   "cell_type": "markdown",
   "metadata": {},
   "source": [
    "## Read"
   ]
  },
  {
   "cell_type": "markdown",
   "metadata": {},
   "source": [
    "__\"READ\" -> Leemos todos los documentos de la base de datos__"
   ]
  },
  {
   "cell_type": "code",
   "execution_count": null,
   "metadata": {},
   "outputs": [],
   "source": [
    "cursor = collection.find() \n",
    "for fut in cursor:\n",
    "    print (\"%s - %s - %i - %s - %r\" \\\n",
    "    %(fut['nombre'], fut['apellidos'], fut['edad'], fut['demarcacion'], fut['internacional']))"
   ]
  },
  {
   "cell_type": "markdown",
   "metadata": {},
   "source": [
    "__\"READ\" -> Hacemos una Query con condiciones y lo pasamos a un objeto Futbolista__"
   ]
  },
  {
   "cell_type": "code",
   "execution_count": 1,
   "metadata": {},
   "outputs": [
    {
     "name": "stdout",
     "output_type": "stream",
     "text": [
      "\n",
      "\n",
      "*** Buqueda de los futbolistas que sean delanteros ***\n"
     ]
    },
    {
     "ename": "NameError",
     "evalue": "name 'collection' is not defined",
     "output_type": "error",
     "traceback": [
      "\u001b[1;31m---------------------------------------------------------------------------\u001b[0m",
      "\u001b[1;31mNameError\u001b[0m                                 Traceback (most recent call last)",
      "\u001b[1;32m<ipython-input-1-c2aa42ba77da>\u001b[0m in \u001b[0;36m<module>\u001b[1;34m\u001b[0m\n\u001b[0;32m      1\u001b[0m \u001b[0mprint\u001b[0m \u001b[1;33m(\u001b[0m\u001b[1;34m\"\\n\\n*** Buqueda de los futbolistas que sean delanteros ***\"\u001b[0m\u001b[1;33m)\u001b[0m\u001b[1;33m\u001b[0m\u001b[1;33m\u001b[0m\u001b[0m\n\u001b[1;32m----> 2\u001b[1;33m \u001b[0mcursor\u001b[0m \u001b[1;33m=\u001b[0m \u001b[0mcollection\u001b[0m\u001b[1;33m.\u001b[0m\u001b[0mfind\u001b[0m\u001b[1;33m(\u001b[0m\u001b[1;33m{\u001b[0m\u001b[1;34m\"demarcacion\"\u001b[0m\u001b[1;33m:\u001b[0m\u001b[1;33m{\u001b[0m\u001b[1;34m\"$in\"\u001b[0m\u001b[1;33m:\u001b[0m\u001b[1;33m[\u001b[0m\u001b[1;34m\"Delantero\"\u001b[0m\u001b[1;33m]\u001b[0m\u001b[1;33m}\u001b[0m\u001b[1;33m}\u001b[0m\u001b[1;33m)\u001b[0m \u001b[1;31m#Buscamos aquellos futbolitas con demarcacion delantero\u001b[0m\u001b[1;33m\u001b[0m\u001b[1;33m\u001b[0m\u001b[0m\n\u001b[0m\u001b[0;32m      3\u001b[0m \u001b[1;32mfor\u001b[0m \u001b[0mfut\u001b[0m \u001b[1;32min\u001b[0m \u001b[0mcursor\u001b[0m\u001b[1;33m:\u001b[0m\u001b[1;33m\u001b[0m\u001b[1;33m\u001b[0m\u001b[0m\n\u001b[0;32m      4\u001b[0m     print (\"%s - %s - %i - %s - %r\" \\\n\u001b[0;32m      5\u001b[0m     %(fut['nombre'], fut['apellidos'], fut['edad'], fut['demarcacion'], fut['internacional']))\n",
      "\u001b[1;31mNameError\u001b[0m: name 'collection' is not defined"
     ]
    }
   ],
   "source": [
    "print (\"\\n\\n*** Buqueda de los futbolistas que sean delanteros ***\")\n",
    "cursor = collection.find({\"demarcacion\":{\"$in\":[\"Delantero\"]}}) #Buscamos aquellos futbolitas con demarcacion delantero\n",
    "for fut in cursor:\n",
    "    print (\"%s - %s - %i - %s - %r\" \\\n",
    "    %(fut['nombre'], fut['apellidos'], fut['edad'], fut['demarcacion'], fut['internacional']))"
   ]
  },
  {
   "cell_type": "markdown",
   "metadata": {},
   "source": [
    "# Update"
   ]
  },
  {
   "cell_type": "markdown",
   "metadata": {},
   "source": [
    "__\"UPDATE\" -> Actualizamos la edad de los jugadores.__\n"
   ]
  },
  {
   "cell_type": "markdown",
   "metadata": {},
   "source": [
    "Aquellos que tengan una edad superior a los 30 años, pasarán a tener ahora 30+100 años<br>\n",
    "<font color=Blue>upsert</font> : para crear nuevos documentos cuando no se encuentrar documentos que cumplan el criterio <br>\n",
    "<font color=Blue>mulyi</font> : Para actualizar varios documentos con el mismo criterio<br>"
   ]
  },
  {
   "cell_type": "code",
   "execution_count": null,
   "metadata": {},
   "outputs": [],
   "source": [
    "collection.update({\"edad\":{\"$gt\":30}},{\"$inc\":{\"edad\":100}}, upsert = False, multi = True)"
   ]
  },
  {
   "cell_type": "markdown",
   "metadata": {},
   "source": [
    "# Delete"
   ]
  },
  {
   "cell_type": "markdown",
   "metadata": {},
   "source": [
    "__\"DELETE\" -> Borramos todos los futbolistas que sean internacionales (internacional = true)__\n"
   ]
  },
  {
   "cell_type": "code",
   "execution_count": null,
   "metadata": {},
   "outputs": [],
   "source": [
    "collection.remove({\"internacional\":True})"
   ]
  },
  {
   "cell_type": "markdown",
   "metadata": {},
   "source": [
    "# Por último cerramos la conexión con la base de datos"
   ]
  },
  {
   "cell_type": "markdown",
   "metadata": {},
   "source": [
    "Bibliografia:<br>\n",
    "https://pypi.org/project/pymongo/<br>\n",
    "https://docs.mongodb.com/<br>\n",
    "http://docs.python.org.ar/tutorial/3/classes.html"
   ]
  },
  {
   "cell_type": "code",
   "execution_count": null,
   "metadata": {},
   "outputs": [],
   "source": []
  }
 ],
 "metadata": {
  "kernelspec": {
   "display_name": "Python 3",
   "language": "python",
   "name": "python3"
  },
  "language_info": {
   "codemirror_mode": {
    "name": "ipython",
    "version": 3
   },
   "file_extension": ".py",
   "mimetype": "text/x-python",
   "name": "python",
   "nbconvert_exporter": "python",
   "pygments_lexer": "ipython3",
   "version": "3.7.1"
  }
 },
 "nbformat": 4,
 "nbformat_minor": 2
}
